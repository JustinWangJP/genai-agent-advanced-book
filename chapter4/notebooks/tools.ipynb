{
 "cells": [
  {
   "cell_type": "markdown",
   "metadata": {},
   "source": [
    "## マニュアル検索ツール"
   ]
  },
  {
   "cell_type": "code",
   "execution_count": 1,
   "metadata": {},
   "outputs": [
    {
     "name": "stdout",
     "output_type": "stream",
     "text": [
      "{'_index': 'documents', '_id': 'SRg6upUBHoUzb-axEV9v', '_score': 3.7005763, '_source': {'file_name': 'XYZシステム統合ユーザーマニュアル.pdf', 'content': 'ます。\\nオンラインヘル プセンター：24時間365 ⽇利⽤可能なヘル プセンター では、シ ス\\nテムの使⽤⽅法や⼀般的な問題に関す る問い合わせを受け付けています 。\\n定期的なウェビ ナー：新機能の紹介や⾼度な使⽤テクニックを学ぶためのオン\\nラインセミナーを開催し ています 。\\n2. システムへのアクセスとログイン\\nXYZシステムへのア クセスとログ インは、システムを利⽤する上で最初のステッ プで\\nす。この章では、安全かつ効率的にシ ステムにアクセスし、ログ インする⽅法につ\\nいて詳しく説明します 。セキュリテ ィを確保しながら、スム ーズにシステムを利⽤開'}}\n",
      "ます。\n",
      "オンラインヘル プセンター：24時間365 ⽇利⽤可能なヘル プセンター では、シ ス\n",
      "テムの使⽤⽅法や⼀般的な問題に関す る問い合わせを受け付けています 。\n",
      "定期的なウェビ ナー：新機能の紹介や⾼度な使⽤テクニックを学ぶためのオン\n",
      "ラインセミナーを開催し ています 。\n",
      "2. システムへのアクセスとログイン\n",
      "XYZシステムへのア クセスとログ インは、システムを利⽤する上で最初のステッ プで\n",
      "す。この章では、安全かつ効率的にシ ステムにアクセスし、ログ インする⽅法につ\n",
      "いて詳しく説明します 。セキュリテ ィを確保しながら、スム ーズにシステムを利⽤開\n"
     ]
    }
   ],
   "source": [
    "from src.tools.search_xyz_manual import search_xyz_manual\n",
    "\n",
    "result = search_xyz_manual.invoke(\"オンラインヘルプセンター\")\n",
    "print(result[0].content)"
   ]
  },
  {
   "cell_type": "code",
   "execution_count": 4,
   "metadata": {},
   "outputs": [
    {
     "data": {
      "text/plain": [
       "[SearchOutput(file_name='XYZシステム統合ユーザーマニュアル.pdf', content='XYZシステム統合ユーザーマニュアル\\n3ます。\\nオンラインヘルプセンター： 2 4時間 365 ⽇利⽤可能なヘルプセンターでは、シ\\nステムの使⽤⽅法や⼀般的な問題に関する問い合わせを受け付けています。\\n定期的なウェビナー：新機能の紹介や⾼度な使⽤テクニックを学ぶためのオン\\nラインセミナーを開催しています。\\n2 .  システムへのアクセスとログイン\\nXYZシステムへのアクセスとログインは、システムを利⽤する上で最初のステップ\\nです。この章では、安全かつ効率的にシステムにアクセスし、ログインする⽅法に\\nついて詳しく説明します。セキュリティを確保しながら、スムーズにシステムを利')]"
      ]
     },
     "execution_count": 4,
     "metadata": {},
     "output_type": "execute_result"
    }
   ],
   "source": [
    "result"
   ]
  },
  {
   "cell_type": "markdown",
   "metadata": {},
   "source": [
    "## 過去QA検索ツール"
   ]
  },
  {
   "cell_type": "code",
   "execution_count": 2,
   "metadata": {},
   "outputs": [
    {
     "name": "stdout",
     "output_type": "stream",
     "text": [
      "Q: パスワードを所定回数間違えてログインがロックされた場合の対処法を教えていただけますか\n",
      "A: パスワードを所定回数間違えてログインがロックされた場合は、以下の手順で対処してください：\n",
      "システム管理者に連絡\n",
      "ロックアウトの解除には管理者権限が必要です。システム管理者に状況を説明し、ロック解除を依頼してください。\n",
      "本人確認\n",
      "管理者は、セキュリティ上の理由から、ユーザーの身元を確認します。必要な情報を提供してください。\n",
      "一時的なパスワードの発行\n",
      "管理者が一時的なパスワードを発行します。これを使用して再度ログインしてください。\n",
      "パスワードの変更\n",
      "ログイン後、すぐに新しいパスワードに変更してください。セキュリティのため、以前のパスワードとは異なるものを選択してください。\n",
      "セキュリティ設定の確認\n",
      "アカウントのセキュリティ設定を確認し、必要に応じて多要素認証などの追加セキュリティ措置を有効にすることを検討してください。\n"
     ]
    }
   ],
   "source": [
    "from src.tools.search_xyz_qa import search_xyz_qa\n",
    "\n",
    "result = search_xyz_qa.invoke(\"パスワードを間違えてロックされました\")\n",
    "print(result[0].content)"
   ]
  },
  {
   "cell_type": "code",
   "execution_count": null,
   "metadata": {},
   "outputs": [],
   "source": []
  }
 ],
 "metadata": {
  "kernelspec": {
   "display_name": ".venv",
   "language": "python",
   "name": "python3"
  },
  "language_info": {
   "codemirror_mode": {
    "name": "ipython",
    "version": 3
   },
   "file_extension": ".py",
   "mimetype": "text/x-python",
   "name": "python",
   "nbconvert_exporter": "python",
   "pygments_lexer": "ipython3",
   "version": "3.12.9"
  }
 },
 "nbformat": 4,
 "nbformat_minor": 2
}
